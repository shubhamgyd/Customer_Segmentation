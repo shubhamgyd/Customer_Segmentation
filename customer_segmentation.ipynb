{
 "cells": [
  {
   "cell_type": "code",
   "execution_count": 1,
   "metadata": {},
   "outputs": [],
   "source": [
    "import pandas as pd"
   ]
  },
  {
   "cell_type": "code",
   "execution_count": 7,
   "metadata": {},
   "outputs": [],
   "source": [
    "df = pd.read_csv('marketing_campaign.csv', sep=\"\\t\")"
   ]
  },
  {
   "cell_type": "code",
   "execution_count": 8,
   "metadata": {},
   "outputs": [
    {
     "data": {
      "text/html": [
       "<div>\n",
       "<style scoped>\n",
       "    .dataframe tbody tr th:only-of-type {\n",
       "        vertical-align: middle;\n",
       "    }\n",
       "\n",
       "    .dataframe tbody tr th {\n",
       "        vertical-align: top;\n",
       "    }\n",
       "\n",
       "    .dataframe thead th {\n",
       "        text-align: right;\n",
       "    }\n",
       "</style>\n",
       "<table border=\"1\" class=\"dataframe\">\n",
       "  <thead>\n",
       "    <tr style=\"text-align: right;\">\n",
       "      <th></th>\n",
       "      <th>ID</th>\n",
       "      <th>Year_Birth</th>\n",
       "      <th>Education</th>\n",
       "      <th>Marital_Status</th>\n",
       "      <th>Income</th>\n",
       "      <th>Kidhome</th>\n",
       "      <th>Teenhome</th>\n",
       "      <th>Dt_Customer</th>\n",
       "      <th>Recency</th>\n",
       "      <th>MntWines</th>\n",
       "      <th>...</th>\n",
       "      <th>NumWebVisitsMonth</th>\n",
       "      <th>AcceptedCmp3</th>\n",
       "      <th>AcceptedCmp4</th>\n",
       "      <th>AcceptedCmp5</th>\n",
       "      <th>AcceptedCmp1</th>\n",
       "      <th>AcceptedCmp2</th>\n",
       "      <th>Complain</th>\n",
       "      <th>Z_CostContact</th>\n",
       "      <th>Z_Revenue</th>\n",
       "      <th>Response</th>\n",
       "    </tr>\n",
       "  </thead>\n",
       "  <tbody>\n",
       "    <tr>\n",
       "      <th>0</th>\n",
       "      <td>5524</td>\n",
       "      <td>1957</td>\n",
       "      <td>Graduation</td>\n",
       "      <td>Single</td>\n",
       "      <td>58138.0</td>\n",
       "      <td>0</td>\n",
       "      <td>0</td>\n",
       "      <td>04-09-2012</td>\n",
       "      <td>58</td>\n",
       "      <td>635</td>\n",
       "      <td>...</td>\n",
       "      <td>7</td>\n",
       "      <td>0</td>\n",
       "      <td>0</td>\n",
       "      <td>0</td>\n",
       "      <td>0</td>\n",
       "      <td>0</td>\n",
       "      <td>0</td>\n",
       "      <td>3</td>\n",
       "      <td>11</td>\n",
       "      <td>1</td>\n",
       "    </tr>\n",
       "    <tr>\n",
       "      <th>1</th>\n",
       "      <td>2174</td>\n",
       "      <td>1954</td>\n",
       "      <td>Graduation</td>\n",
       "      <td>Single</td>\n",
       "      <td>46344.0</td>\n",
       "      <td>1</td>\n",
       "      <td>1</td>\n",
       "      <td>08-03-2014</td>\n",
       "      <td>38</td>\n",
       "      <td>11</td>\n",
       "      <td>...</td>\n",
       "      <td>5</td>\n",
       "      <td>0</td>\n",
       "      <td>0</td>\n",
       "      <td>0</td>\n",
       "      <td>0</td>\n",
       "      <td>0</td>\n",
       "      <td>0</td>\n",
       "      <td>3</td>\n",
       "      <td>11</td>\n",
       "      <td>0</td>\n",
       "    </tr>\n",
       "    <tr>\n",
       "      <th>2</th>\n",
       "      <td>4141</td>\n",
       "      <td>1965</td>\n",
       "      <td>Graduation</td>\n",
       "      <td>Together</td>\n",
       "      <td>71613.0</td>\n",
       "      <td>0</td>\n",
       "      <td>0</td>\n",
       "      <td>21-08-2013</td>\n",
       "      <td>26</td>\n",
       "      <td>426</td>\n",
       "      <td>...</td>\n",
       "      <td>4</td>\n",
       "      <td>0</td>\n",
       "      <td>0</td>\n",
       "      <td>0</td>\n",
       "      <td>0</td>\n",
       "      <td>0</td>\n",
       "      <td>0</td>\n",
       "      <td>3</td>\n",
       "      <td>11</td>\n",
       "      <td>0</td>\n",
       "    </tr>\n",
       "    <tr>\n",
       "      <th>3</th>\n",
       "      <td>6182</td>\n",
       "      <td>1984</td>\n",
       "      <td>Graduation</td>\n",
       "      <td>Together</td>\n",
       "      <td>26646.0</td>\n",
       "      <td>1</td>\n",
       "      <td>0</td>\n",
       "      <td>10-02-2014</td>\n",
       "      <td>26</td>\n",
       "      <td>11</td>\n",
       "      <td>...</td>\n",
       "      <td>6</td>\n",
       "      <td>0</td>\n",
       "      <td>0</td>\n",
       "      <td>0</td>\n",
       "      <td>0</td>\n",
       "      <td>0</td>\n",
       "      <td>0</td>\n",
       "      <td>3</td>\n",
       "      <td>11</td>\n",
       "      <td>0</td>\n",
       "    </tr>\n",
       "    <tr>\n",
       "      <th>4</th>\n",
       "      <td>5324</td>\n",
       "      <td>1981</td>\n",
       "      <td>PhD</td>\n",
       "      <td>Married</td>\n",
       "      <td>58293.0</td>\n",
       "      <td>1</td>\n",
       "      <td>0</td>\n",
       "      <td>19-01-2014</td>\n",
       "      <td>94</td>\n",
       "      <td>173</td>\n",
       "      <td>...</td>\n",
       "      <td>5</td>\n",
       "      <td>0</td>\n",
       "      <td>0</td>\n",
       "      <td>0</td>\n",
       "      <td>0</td>\n",
       "      <td>0</td>\n",
       "      <td>0</td>\n",
       "      <td>3</td>\n",
       "      <td>11</td>\n",
       "      <td>0</td>\n",
       "    </tr>\n",
       "  </tbody>\n",
       "</table>\n",
       "<p>5 rows × 29 columns</p>\n",
       "</div>"
      ],
      "text/plain": [
       "     ID  Year_Birth   Education Marital_Status   Income  Kidhome  Teenhome  \\\n",
       "0  5524        1957  Graduation         Single  58138.0        0         0   \n",
       "1  2174        1954  Graduation         Single  46344.0        1         1   \n",
       "2  4141        1965  Graduation       Together  71613.0        0         0   \n",
       "3  6182        1984  Graduation       Together  26646.0        1         0   \n",
       "4  5324        1981         PhD        Married  58293.0        1         0   \n",
       "\n",
       "  Dt_Customer  Recency  MntWines  ...  NumWebVisitsMonth  AcceptedCmp3  \\\n",
       "0  04-09-2012       58       635  ...                  7             0   \n",
       "1  08-03-2014       38        11  ...                  5             0   \n",
       "2  21-08-2013       26       426  ...                  4             0   \n",
       "3  10-02-2014       26        11  ...                  6             0   \n",
       "4  19-01-2014       94       173  ...                  5             0   \n",
       "\n",
       "   AcceptedCmp4  AcceptedCmp5  AcceptedCmp1  AcceptedCmp2  Complain  \\\n",
       "0             0             0             0             0         0   \n",
       "1             0             0             0             0         0   \n",
       "2             0             0             0             0         0   \n",
       "3             0             0             0             0         0   \n",
       "4             0             0             0             0         0   \n",
       "\n",
       "   Z_CostContact  Z_Revenue  Response  \n",
       "0              3         11         1  \n",
       "1              3         11         0  \n",
       "2              3         11         0  \n",
       "3              3         11         0  \n",
       "4              3         11         0  \n",
       "\n",
       "[5 rows x 29 columns]"
      ]
     },
     "execution_count": 8,
     "metadata": {},
     "output_type": "execute_result"
    }
   ],
   "source": [
    "df.head()"
   ]
  },
  {
   "cell_type": "code",
   "execution_count": 12,
   "metadata": {},
   "outputs": [
    {
     "name": "stdout",
     "output_type": "stream",
     "text": [
      "<class 'pandas.core.frame.DataFrame'>\n",
      "RangeIndex: 2240 entries, 0 to 2239\n",
      "Data columns (total 29 columns):\n",
      " #   Column               Non-Null Count  Dtype  \n",
      "---  ------               --------------  -----  \n",
      " 0   ID                   2240 non-null   int64  \n",
      " 1   Year_Birth           2240 non-null   int64  \n",
      " 2   Education            2240 non-null   object \n",
      " 3   Marital_Status       2240 non-null   object \n",
      " 4   Income               2216 non-null   float64\n",
      " 5   Kidhome              2240 non-null   int64  \n",
      " 6   Teenhome             2240 non-null   int64  \n",
      " 7   Dt_Customer          2240 non-null   object \n",
      " 8   Recency              2240 non-null   int64  \n",
      " 9   MntWines             2240 non-null   int64  \n",
      " 10  MntFruits            2240 non-null   int64  \n",
      " 11  MntMeatProducts      2240 non-null   int64  \n",
      " 12  MntFishProducts      2240 non-null   int64  \n",
      " 13  MntSweetProducts     2240 non-null   int64  \n",
      " 14  MntGoldProds         2240 non-null   int64  \n",
      " 15  NumDealsPurchases    2240 non-null   int64  \n",
      " 16  NumWebPurchases      2240 non-null   int64  \n",
      " 17  NumCatalogPurchases  2240 non-null   int64  \n",
      " 18  NumStorePurchases    2240 non-null   int64  \n",
      " 19  NumWebVisitsMonth    2240 non-null   int64  \n",
      " 20  AcceptedCmp3         2240 non-null   int64  \n",
      " 21  AcceptedCmp4         2240 non-null   int64  \n",
      " 22  AcceptedCmp5         2240 non-null   int64  \n",
      " 23  AcceptedCmp1         2240 non-null   int64  \n",
      " 24  AcceptedCmp2         2240 non-null   int64  \n",
      " 25  Complain             2240 non-null   int64  \n",
      " 26  Z_CostContact        2240 non-null   int64  \n",
      " 27  Z_Revenue            2240 non-null   int64  \n",
      " 28  Response             2240 non-null   int64  \n",
      "dtypes: float64(1), int64(25), object(3)\n",
      "memory usage: 507.6+ KB\n"
     ]
    }
   ],
   "source": [
    "df.info()"
   ]
  },
  {
   "cell_type": "markdown",
   "metadata": {},
   "source": [
    "# Handling Missing Values"
   ]
  },
  {
   "cell_type": "markdown",
   "metadata": {},
   "source": [
    "Based on the df.info() output, it seems that there are missing values in the \"Income\" column.   \n",
    "Handling these missing values by filling them with the mean income."
   ]
  },
  {
   "cell_type": "code",
   "execution_count": 18,
   "metadata": {},
   "outputs": [],
   "source": [
    "df['Income'].fillna(df['Income'].mean(), inplace=True)"
   ]
  },
  {
   "cell_type": "markdown",
   "metadata": {},
   "source": [
    "Checking for any remaining missing values"
   ]
  },
  {
   "cell_type": "code",
   "execution_count": 19,
   "metadata": {},
   "outputs": [
    {
     "name": "stdout",
     "output_type": "stream",
     "text": [
      "ID                     0\n",
      "Year_Birth             0\n",
      "Education              0\n",
      "Marital_Status         0\n",
      "Income                 0\n",
      "Kidhome                0\n",
      "Teenhome               0\n",
      "Dt_Customer            0\n",
      "Recency                0\n",
      "MntWines               0\n",
      "MntFruits              0\n",
      "MntMeatProducts        0\n",
      "MntFishProducts        0\n",
      "MntSweetProducts       0\n",
      "MntGoldProds           0\n",
      "NumDealsPurchases      0\n",
      "NumWebPurchases        0\n",
      "NumCatalogPurchases    0\n",
      "NumStorePurchases      0\n",
      "NumWebVisitsMonth      0\n",
      "AcceptedCmp3           0\n",
      "AcceptedCmp4           0\n",
      "AcceptedCmp5           0\n",
      "AcceptedCmp1           0\n",
      "AcceptedCmp2           0\n",
      "Complain               0\n",
      "Z_CostContact          0\n",
      "Z_Revenue              0\n",
      "Response               0\n",
      "dtype: int64\n"
     ]
    }
   ],
   "source": [
    "print(df.isnull().sum())"
   ]
  },
  {
   "cell_type": "markdown",
   "metadata": {},
   "source": [
    "Converting the \"Dt_Customer\" column from the simple object data type to datetime object"
   ]
  },
  {
   "cell_type": "code",
   "execution_count": 21,
   "metadata": {},
   "outputs": [
    {
     "name": "stdout",
     "output_type": "stream",
     "text": [
      "object\n"
     ]
    }
   ],
   "source": [
    "print(df.dtypes['Dt_Customer'])"
   ]
  },
  {
   "cell_type": "code",
   "execution_count": 23,
   "metadata": {},
   "outputs": [
    {
     "name": "stderr",
     "output_type": "stream",
     "text": [
      "C:\\Users\\shubh\\AppData\\Local\\Temp\\ipykernel_8268\\3313683337.py:2: UserWarning: Parsing dates in DD/MM/YYYY format when dayfirst=False (the default) was specified. This may lead to inconsistently parsed dates! Specify a format to ensure consistent parsing.\n",
      "  df['Dt_Customer'] = pd.to_datetime(df['Dt_Customer'])\n"
     ]
    }
   ],
   "source": [
    "# Convert \"Dt_Customer\" column to datetime format\n",
    "df['Dt_Customer'] = pd.to_datetime(df['Dt_Customer'])"
   ]
  },
  {
   "cell_type": "code",
   "execution_count": 24,
   "metadata": {},
   "outputs": [
    {
     "name": "stdout",
     "output_type": "stream",
     "text": [
      "datetime64[ns]\n"
     ]
    }
   ],
   "source": [
    "# After convert \"Dt-Customer\" column to datetime format.\n",
    "print(df.dtypes['Dt_Customer'])"
   ]
  },
  {
   "cell_type": "markdown",
   "metadata": {},
   "source": [
    "# Normalization\n",
    "Normalizing a dataset involves scaling the features to a range between 0 and 1"
   ]
  },
  {
   "cell_type": "code",
   "execution_count": 26,
   "metadata": {},
   "outputs": [
    {
     "name": "stdout",
     "output_type": "stream",
     "text": [
      "   Year_Birth    Income   Recency  MntWines  MntFruits  MntMeatProducts  \\\n",
      "0    0.621359  0.084832  0.585859  0.425318   0.442211         0.316522   \n",
      "1    0.592233  0.067095  0.383838  0.007368   0.005025         0.003478   \n",
      "2    0.699029  0.105097  0.262626  0.285332   0.246231         0.073623   \n",
      "3    0.883495  0.037471  0.262626  0.007368   0.020101         0.011594   \n",
      "4    0.854369  0.085065  0.949495  0.115874   0.216080         0.068406   \n",
      "\n",
      "   MntFishProducts  MntSweetProducts  MntGoldProds  NumDealsPurchases  \\\n",
      "0         0.664093          0.334601      0.243094           0.200000   \n",
      "1         0.007722          0.003802      0.016575           0.133333   \n",
      "2         0.428571          0.079848      0.116022           0.066667   \n",
      "3         0.038610          0.011407      0.013812           0.133333   \n",
      "4         0.177606          0.102662      0.041436           0.333333   \n",
      "\n",
      "   NumWebPurchases  NumCatalogPurchases  NumStorePurchases  NumWebVisitsMonth  \n",
      "0         0.296296             0.357143           0.307692               0.35  \n",
      "1         0.037037             0.035714           0.153846               0.25  \n",
      "2         0.296296             0.071429           0.769231               0.20  \n",
      "3         0.074074             0.000000           0.307692               0.30  \n",
      "4         0.185185             0.107143           0.461538               0.25  \n"
     ]
    }
   ],
   "source": [
    "from sklearn.preprocessing import MinMaxScaler\n",
    "\n",
    "# Define the numerical features to be standardized\n",
    "numerical_features = ['Year_Birth', 'Income', 'Recency', 'MntWines', 'MntFruits', 'MntMeatProducts', \n",
    "                      'MntFishProducts', 'MntSweetProducts', 'MntGoldProds', 'NumDealsPurchases', \n",
    "                      'NumWebPurchases', 'NumCatalogPurchases', 'NumStorePurchases', 'NumWebVisitsMonth']\n",
    "\n",
    "# Initialize the MinMaxScaler\n",
    "scaler = MinMaxScaler()\n",
    "\n",
    "# Fit and transform the numerical features\n",
    "df[numerical_features] = scaler.fit_transform(df[numerical_features])\n",
    "\n",
    "# Checking the normalized numerical features\n",
    "print(df[numerical_features].head())"
   ]
  },
  {
   "cell_type": "markdown",
   "metadata": {},
   "source": [
    "# Encoding Categorical Values\n",
    "Categorical values encoded into numerical format to process them effectively.   \n",
    "For this one-hot encoding is used.   \n",
    "**Definition**:   \n",
    "*One-hot encoding is a technique used to convert categorical variables into a\n",
    "numerical format that can be provided to machine learning algorithms*"
   ]
  },
  {
   "cell_type": "code",
   "execution_count": 30,
   "metadata": {},
   "outputs": [
    {
     "name": "stdout",
     "output_type": "stream",
     "text": [
      "     ID  Year_Birth    Income  Kidhome  Teenhome Dt_Customer   Recency  \\\n",
      "0  5524    0.621359  0.084832        0         0  2012-04-09  0.585859   \n",
      "1  2174    0.592233  0.067095        1         1  2014-08-03  0.383838   \n",
      "2  4141    0.699029  0.105097        0         0  2013-08-21  0.262626   \n",
      "3  6182    0.883495  0.037471        1         0  2014-10-02  0.262626   \n",
      "4  5324    0.854369  0.085065        1         0  2014-01-19  0.949495   \n",
      "\n",
      "   MntWines  MntFruits  MntMeatProducts  ...  Education_Master  Education_PhD  \\\n",
      "0  0.425318   0.442211         0.316522  ...                 0              0   \n",
      "1  0.007368   0.005025         0.003478  ...                 0              0   \n",
      "2  0.285332   0.246231         0.073623  ...                 0              0   \n",
      "3  0.007368   0.020101         0.011594  ...                 0              0   \n",
      "4  0.115874   0.216080         0.068406  ...                 0              1   \n",
      "\n",
      "   Marital_Status_Absurd  Marital_Status_Alone  Marital_Status_Divorced  \\\n",
      "0                      0                     0                        0   \n",
      "1                      0                     0                        0   \n",
      "2                      0                     0                        0   \n",
      "3                      0                     0                        0   \n",
      "4                      0                     0                        0   \n",
      "\n",
      "   Marital_Status_Married  Marital_Status_Single  Marital_Status_Together  \\\n",
      "0                       0                      1                        0   \n",
      "1                       0                      1                        0   \n",
      "2                       0                      0                        1   \n",
      "3                       0                      0                        1   \n",
      "4                       1                      0                        0   \n",
      "\n",
      "   Marital_Status_Widow  Marital_Status_YOLO  \n",
      "0                     0                    0  \n",
      "1                     0                    0  \n",
      "2                     0                    0  \n",
      "3                     0                    0  \n",
      "4                     0                    0  \n",
      "\n",
      "[5 rows x 40 columns]\n"
     ]
    }
   ],
   "source": [
    "# Peform one-hot encoding for categorical variables\n",
    "df_encoded = pd.get_dummies(df, columns=['Education', 'Marital_Status'])\n",
    "\n",
    "# Check the encoded DataFrame\n",
    "print(df_encoded.head())"
   ]
  },
  {
   "cell_type": "markdown",
   "metadata": {},
   "source": [
    "# Removing Outliers"
   ]
  },
  {
   "cell_type": "markdown",
   "metadata": {},
   "source": [
    "### Steps to handle outliers:\n",
    "1. **Identify Outliers:**   \n",
    "*Use statistical methods such as z-score or interquartile (IQR) to detect \n",
    "                      outliers in numerical features.*\n",
    "\n",
    "2. **Remove or Transform Outliers:**    \n",
    "*Once identified, you can choose to remove the outliers from the dataset or transform them using techniques such as winsorization or log transform.*"
   ]
  },
  {
   "cell_type": "markdown",
   "metadata": {},
   "source": [
    "Step1: Identifying the Outliers"
   ]
  },
  {
   "cell_type": "code",
   "execution_count": 35,
   "metadata": {},
   "outputs": [
    {
     "name": "stdout",
     "output_type": "stream",
     "text": [
      "Indices of outliers: [9, 12, 21, 27, 40, 45, 49, 51, 53, 76, 90, 98, 102, 109, 111, 126, 140, 161, 164, 168, 179, 197, 198, 201, 203, 213, 214, 230, 240, 243, 249, 252, 266, 276, 287, 288, 292, 305, 336, 339, 345, 347, 360, 368, 392, 404, 419, 429, 432, 447, 456, 459, 461, 463, 470, 492, 497, 506, 523, 528, 537, 543, 546, 557, 559, 561, 586, 591, 617, 626, 634, 646, 655, 672, 687, 702, 715, 723, 753, 764, 766, 771, 774, 779, 780, 790, 803, 809, 812, 814, 817, 824, 825, 845, 846, 852, 855, 875, 895, 897, 905, 906, 914, 917, 921, 924, 926, 928, 934, 966, 981, 984, 987, 1010, 1016, 1031, 1040, 1042, 1050, 1052, 1060, 1075, 1089, 1100, 1111, 1133, 1147, 1156, 1157, 1161, 1168, 1179, 1190, 1199, 1213, 1245, 1253, 1259, 1265, 1266, 1278, 1280, 1288, 1298, 1300, 1311, 1313, 1325, 1328, 1333, 1342, 1355, 1358, 1413, 1421, 1444, 1446, 1451, 1476, 1480, 1484, 1488, 1490, 1492, 1495, 1503, 1506, 1507, 1508, 1513, 1521, 1524, 1525, 1526, 1528, 1542, 1552, 1569, 1572, 1589, 1591, 1601, 1612, 1622, 1623, 1641, 1644, 1651, 1653, 1660, 1671, 1686, 1699, 1713, 1721, 1722, 1729, 1733, 1749, 1788, 1799, 1803, 1806, 1808, 1813, 1824, 1827, 1839, 1846, 1852, 1853, 1865, 1871, 1876, 1877, 1891, 1898, 1910, 1921, 1922, 1943, 1946, 1958, 1960, 1961, 1965, 1975, 1976, 2006, 2010, 2012, 2013, 2024, 2033, 2039, 2041, 2048, 2056, 2065, 2071, 2093, 2096, 2098, 2109, 2123, 2131, 2132, 2151, 2168, 2172, 2173, 2176, 2178, 2193, 2211, 2214, 2217, 2228, 2233, 2235]\n",
      "2240\n"
     ]
    }
   ],
   "source": [
    "from scipy import stats\n",
    "\n",
    "# Define the numerical features to check for outliers\n",
    "numerical_features = ['Year_Birth', 'Income', 'Recency', 'MntWines', 'MntFruits', 'MntMeatProducts', \n",
    "                      'MntFishProducts', 'MntSweetProducts', 'MntGoldProds', 'NumDealsPurchases', \n",
    "                      'NumWebPurchases', 'NumCatalogPurchases', 'NumStorePurchases', 'NumWebVisitsMonth']\n",
    "\n",
    "# Calculate the z-scores for each numerical feature\n",
    "z_scores = stats.zscore(df[numerical_features])\n",
    "\n",
    "# Define a threshold for identifying outliers (e.g., z-score > 3 or < -3)\n",
    "threshold = 3\n",
    "\n",
    "# Find the indices of outliers based on the z-scores\n",
    "outlier_indices = (z_scores > threshold).any(axis=1)\n",
    "\n",
    "# Print the indices of outliers\n",
    "print(\"Indices of outliers:\", df.index[outlier_indices].tolist())\n",
    "print(len(outlier_indices))\n"
   ]
  },
  {
   "cell_type": "markdown",
   "metadata": {},
   "source": [
    "Step2: Transforming the Outliers.   \n",
    "\n",
    "*Transforming the outliers using winsorization, where extreme values are replace with less extreme values.*"
   ]
  },
  {
   "cell_type": "code",
   "execution_count": 36,
   "metadata": {},
   "outputs": [
    {
     "name": "stdout",
     "output_type": "stream",
     "text": [
      "   Year_Birth    Income   Recency  MntWines  MntFruits  MntMeatProducts  \\\n",
      "0    0.621359  0.084832  0.585859  0.425318   0.442211         0.316522   \n",
      "1    0.592233  0.067095  0.383838  0.007368   0.005025         0.003478   \n",
      "2    0.699029  0.105097  0.262626  0.285332   0.246231         0.073623   \n",
      "3    0.883495  0.037471  0.262626  0.007368   0.020101         0.011594   \n",
      "4    0.854369  0.085065  0.949495  0.115874   0.216080         0.068406   \n",
      "\n",
      "   MntFishProducts  MntSweetProducts  MntGoldProds  NumDealsPurchases  \\\n",
      "0         0.648649          0.334601      0.243094           0.200000   \n",
      "1         0.007722          0.003802      0.016575           0.133333   \n",
      "2         0.428571          0.079848      0.116022           0.066667   \n",
      "3         0.038610          0.011407      0.013812           0.133333   \n",
      "4         0.177606          0.102662      0.041436           0.333333   \n",
      "\n",
      "   NumWebPurchases  NumCatalogPurchases  NumStorePurchases  NumWebVisitsMonth  \n",
      "0         0.296296             0.321429           0.307692               0.35  \n",
      "1         0.037037             0.035714           0.153846               0.25  \n",
      "2         0.296296             0.071429           0.769231               0.20  \n",
      "3         0.074074             0.000000           0.307692               0.30  \n",
      "4         0.185185             0.107143           0.461538               0.25  \n"
     ]
    }
   ],
   "source": [
    "from scipy.stats.mstats import winsorize\n",
    "\n",
    "for feature in numerical_features:\n",
    "  df[feature] = winsorize(df[feature], limits=(0.05, 0.05))\n",
    "\n",
    "print(df[numerical_features].head())"
   ]
  },
  {
   "cell_type": "code",
   "execution_count": null,
   "metadata": {},
   "outputs": [],
   "source": []
  }
 ],
 "metadata": {
  "kernelspec": {
   "display_name": "Python 3",
   "language": "python",
   "name": "python3"
  },
  "language_info": {
   "codemirror_mode": {
    "name": "ipython",
    "version": 3
   },
   "file_extension": ".py",
   "mimetype": "text/x-python",
   "name": "python",
   "nbconvert_exporter": "python",
   "pygments_lexer": "ipython3",
   "version": "3.10.11"
  }
 },
 "nbformat": 4,
 "nbformat_minor": 2
}
